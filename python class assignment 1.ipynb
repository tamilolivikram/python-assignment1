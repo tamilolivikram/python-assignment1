{
 "cells": [
  {
   "cell_type": "code",
   "execution_count": 10,
   "metadata": {},
   "outputs": [],
   "source": [
    "class multifunction():\n",
    "    def subfield():\n",
    "        list=('Sub-fields in AI are:','Machine Learning' ,\"Neural Networks\" , \"Vision\" ,\"Robotics\", \"Speech Processing\" , \n",
    "              \"Natural Language Processing\")\n",
    "        for temp in list:\n",
    "            print(temp) \n",
    "        return\n",
    "    def oddeven():\n",
    "        num=int(input(\"enter the number:\"))    \n",
    "        if(num%2)==0:\n",
    "            print(num,\"is even number\")\n",
    "        else:\n",
    "            print(num,\"is odd number\")\n",
    "        return\n",
    "    def eligible():\n",
    "        gender=input(\"enter your gender:\")\n",
    "        age=int(input(\"enter your age:\"))\n",
    "        if(gender=='male'and age>=24):\n",
    "            print(\"your eligible for marriage\")\n",
    "        elif(gender=='female'and age>=18):\n",
    "            print(\"your eligible for marriage\")\n",
    "        else:\n",
    "            print(\"your  not eligible for marriage\")\n",
    "            return\n",
    "    def percentage():\n",
    "        a=int(input(\"subject1 :\"))\n",
    "        b=int(input(\"subject2 :\"))\n",
    "        c=int(input(\"subject3 :\"))\n",
    "        d=int(input(\"subject4 :\"))\n",
    "        e=int(input(\"subject5 :\"))\n",
    "        add=a+b+c+d+e\n",
    "        print(\"total\",add)\n",
    "        ave=(add/5)\n",
    "        print(\"percentage\",ave)\n",
    "        return"
   ]
  },
  {
   "cell_type": "code",
   "execution_count": 2,
   "metadata": {},
   "outputs": [
    {
     "name": "stdout",
     "output_type": "stream",
     "text": [
      "enter your gender:male\n",
      "enter your age:47\n",
      "your eligible for marriage\n"
     ]
    }
   ],
   "source": [
    "multifunction.eligible()"
   ]
  },
  {
   "cell_type": "code",
   "execution_count": 4,
   "metadata": {},
   "outputs": [
    {
     "name": "stdout",
     "output_type": "stream",
     "text": [
      "Sub-fields in AI are:\n",
      "Machine Learning\n",
      "Neural Networks\n",
      "Vision\n",
      "Robotics\n",
      "Speech Processing\n",
      "Natural Language Processing\n"
     ]
    }
   ],
   "source": [
    "multifunction.subfield()"
   ]
  },
  {
   "cell_type": "code",
   "execution_count": 11,
   "metadata": {},
   "outputs": [
    {
     "name": "stdout",
     "output_type": "stream",
     "text": [
      "enter the number:99\n",
      "99 is odd number\n"
     ]
    }
   ],
   "source": [
    "multifunction.oddeven()"
   ]
  },
  {
   "cell_type": "code",
   "execution_count": 12,
   "metadata": {},
   "outputs": [
    {
     "name": "stdout",
     "output_type": "stream",
     "text": [
      "subject1 :98\n",
      "subject2 :98\n",
      "subject3 :99\n",
      "subject4 :97\n",
      "subject5 :99\n",
      "total 491\n",
      "percentage 98.2\n"
     ]
    }
   ],
   "source": [
    "multifunction.percentage()"
   ]
  },
  {
   "cell_type": "code",
   "execution_count": null,
   "metadata": {},
   "outputs": [],
   "source": []
  }
 ],
 "metadata": {
  "kernelspec": {
   "display_name": "Python 3",
   "language": "python",
   "name": "python3"
  },
  "language_info": {
   "codemirror_mode": {
    "name": "ipython",
    "version": 3
   },
   "file_extension": ".py",
   "mimetype": "text/x-python",
   "name": "python",
   "nbconvert_exporter": "python",
   "pygments_lexer": "ipython3",
   "version": "3.7.4"
  }
 },
 "nbformat": 4,
 "nbformat_minor": 2
}
