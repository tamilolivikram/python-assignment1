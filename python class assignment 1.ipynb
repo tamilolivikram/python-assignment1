{
 "cells": [
  {
   "cell_type": "code",
   "execution_count": 13,
   "metadata": {},
   "outputs": [],
   "source": [
    "class subfieldINAI():\n",
    "    def subfield():\n",
    "        list=('Sub-fields in AI are:','Machine Learning' ,\"Neural Networks\" , \"Vision\" ,\"Robotics\", \"Speech Processing\" , \n",
    "              \"Natural Language Processing\")\n",
    "        for temp in list:\n",
    "            print(temp) \n",
    "        return\n",
    "class oddeve():\n",
    "    def oddeven():\n",
    "        num=int(input(\"enter the number:\"))    \n",
    "        if(num%2)==0:\n",
    "            print(num,\"is even number\")\n",
    "        else:\n",
    "            print(num,\"is odd number\")\n",
    "        return\n",
    "class eligibleformarriage():\n",
    "    def eligible():\n",
    "        gender=input(\"enter your gender:\")\n",
    "        age=int(input(\"enter your age:\"))\n",
    "        if(gender=='male'and age>=24):\n",
    "            print(\"your eligible for marriage\")\n",
    "        elif(gender=='female'and age>=18):\n",
    "            print(\"your eligible for marriage\")\n",
    "        else:\n",
    "            print(\"your  not eligible for marriage\")\n",
    "            return\n",
    "class findpercentage():\n",
    "    def percentage():\n",
    "        a=int(input(\"subject1 :\"))\n",
    "        b=int(input(\"subject2 :\"))\n",
    "        c=int(input(\"subject3 :\"))\n",
    "        d=int(input(\"subject4 :\"))\n",
    "        e=int(input(\"subject5 :\"))\n",
    "        add=a+b+c+d+e\n",
    "        print(\"total\",add)\n",
    "        ave=(add/5)\n",
    "        print(\"percentage\",ave)\n",
    "        return"
   ]
  },
  {
   "cell_type": "code",
   "execution_count": 14,
   "metadata": {},
   "outputs": [
    {
     "name": "stdout",
     "output_type": "stream",
     "text": [
      "Sub-fields in AI are:\n",
      "Machine Learning\n",
      "Neural Networks\n",
      "Vision\n",
      "Robotics\n",
      "Speech Processing\n",
      "Natural Language Processing\n"
     ]
    }
   ],
   "source": [
    "subfieldINAI.subfield()"
   ]
  },
  {
   "cell_type": "code",
   "execution_count": 15,
   "metadata": {},
   "outputs": [
    {
     "name": "stdout",
     "output_type": "stream",
     "text": [
      "enter the number:78\n",
      "78 is even number\n"
     ]
    }
   ],
   "source": [
    "oddeve.oddeven()"
   ]
  },
  {
   "cell_type": "code",
   "execution_count": 16,
   "metadata": {},
   "outputs": [
    {
     "name": "stdout",
     "output_type": "stream",
     "text": [
      "enter your gender:female\n",
      "enter your age:16\n",
      "your  not eligible for marriage\n"
     ]
    }
   ],
   "source": [
    "eligibleformarriage.eligible()"
   ]
  },
  {
   "cell_type": "code",
   "execution_count": 17,
   "metadata": {},
   "outputs": [
    {
     "name": "stdout",
     "output_type": "stream",
     "text": [
      "subject1 :98\n",
      "subject2 :99\n",
      "subject3 :96\n",
      "subject4 :99\n",
      "subject5 :97\n",
      "total 489\n",
      "percentage 97.8\n"
     ]
    }
   ],
   "source": [
    "findpercentage.percentage()"
   ]
  },
  {
   "cell_type": "code",
   "execution_count": null,
   "metadata": {},
   "outputs": [],
   "source": []
  }
 ],
 "metadata": {
  "kernelspec": {
   "display_name": "Python 3",
   "language": "python",
   "name": "python3"
  },
  "language_info": {
   "codemirror_mode": {
    "name": "ipython",
    "version": 3
   },
   "file_extension": ".py",
   "mimetype": "text/x-python",
   "name": "python",
   "nbconvert_exporter": "python",
   "pygments_lexer": "ipython3",
   "version": "3.7.4"
  }
 },
 "nbformat": 4,
 "nbformat_minor": 2
}
