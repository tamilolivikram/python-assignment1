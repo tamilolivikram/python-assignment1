{
 "cells": [
  {
   "cell_type": "code",
   "execution_count": 18,
   "metadata": {},
   "outputs": [],
   "source": [
    "class subfieldINAI():\n",
    "    def subfield():\n",
    "        list=('Sub-fields in AI are:','Machine Learning' ,\"Neural Networks\" , \"Vision\" ,\"Robotics\", \"Speech Processing\" , \n",
    "              \"Natural Language Processing\")\n",
    "        for temp in list:\n",
    "            print(temp) \n",
    "        return\n",
    "\n"
   ]
  },
  {
   "cell_type": "code",
   "execution_count": 19,
   "metadata": {},
   "outputs": [
    {
     "name": "stdout",
     "output_type": "stream",
     "text": [
      "Sub-fields in AI are:\n",
      "Machine Learning\n",
      "Neural Networks\n",
      "Vision\n",
      "Robotics\n",
      "Speech Processing\n",
      "Natural Language Processing\n"
     ]
    }
   ],
   "source": [
    "subfieldINAI.subfield()"
   ]
  },
  {
   "cell_type": "code",
   "execution_count": 20,
   "metadata": {},
   "outputs": [],
   "source": [
    "class oddeve():\n",
    "    def oddeven():\n",
    "        num=int(input(\"enter the number:\"))    \n",
    "        if(num%2)==0:\n",
    "            print(num,\"is even number\")\n",
    "        else:\n",
    "            print(num,\"is odd number\")\n",
    "        return"
   ]
  },
  {
   "cell_type": "code",
   "execution_count": 21,
   "metadata": {},
   "outputs": [
    {
     "name": "stdout",
     "output_type": "stream",
     "text": [
      "enter the number:53\n",
      "53 is odd number\n"
     ]
    }
   ],
   "source": [
    "oddeve.oddeven()"
   ]
  },
  {
   "cell_type": "code",
   "execution_count": 22,
   "metadata": {},
   "outputs": [],
   "source": [
    "class eligibleformarriage():\n",
    "    def eligible():\n",
    "        gender=input(\"enter your gender:\")\n",
    "        age=int(input(\"enter your age:\"))\n",
    "        if(gender=='male'and age>=24):\n",
    "            print(\"your eligible for marriage\")\n",
    "        elif(gender=='female'and age>=18):\n",
    "            print(\"your eligible for marriage\")\n",
    "        else:\n",
    "            print(\"your  not eligible for marriage\")\n",
    "            return"
   ]
  },
  {
   "cell_type": "code",
   "execution_count": 23,
   "metadata": {},
   "outputs": [
    {
     "name": "stdout",
     "output_type": "stream",
     "text": [
      "enter your gender:male\n",
      "enter your age:9\n",
      "your  not eligible for marriage\n"
     ]
    }
   ],
   "source": [
    "eligibleformarriage.eligible()"
   ]
  },
  {
   "cell_type": "code",
   "execution_count": 24,
   "metadata": {},
   "outputs": [],
   "source": [
    "class findpercentage():\n",
    "    def percentage():\n",
    "        a=int(input(\"subject1 :\"))\n",
    "        b=int(input(\"subject2 :\"))\n",
    "        c=int(input(\"subject3 :\"))\n",
    "        d=int(input(\"subject4 :\"))\n",
    "        e=int(input(\"subject5 :\"))\n",
    "        add=a+b+c+d+e\n",
    "        print(\"total\",add)\n",
    "        ave=(add/5)\n",
    "        print(\"percentage\",ave)\n",
    "        return"
   ]
  },
  {
   "cell_type": "code",
   "execution_count": 25,
   "metadata": {},
   "outputs": [
    {
     "name": "stdout",
     "output_type": "stream",
     "text": [
      "subject1 :98\n",
      "subject2 :98\n",
      "subject3 :77\n",
      "subject4 :67\n",
      "subject5 :79\n",
      "total 419\n",
      "percentage 83.8\n"
     ]
    }
   ],
   "source": [
    "findpercentage.percentage()"
   ]
  },
  {
   "cell_type": "code",
   "execution_count": 26,
   "metadata": {},
   "outputs": [],
   "source": [
    "class triangle1():  \n",
    "    def triangle():  \n",
    "        h=int(input(\"Height :\"))\n",
    "        b=int(input(\"Breath :\"))\n",
    "        print(\"area formla = (h*b)2\")\n",
    "        areaformula=((h*b)/2)\n",
    "        print(\"area of triangle :\",areaformula)\n",
    "        h1=int(input(\"Height1 :\"))\n",
    "        h2=int(input(\"Height2 :\"))\n",
    "        b1=int(input(\"Breath :\"))\n",
    "        print(\"perimeter formla = h1+h2+b\")\n",
    "        perimeter=(h1+h2+b1)\n",
    "        print(\"perimeter of triangle:\",perimeter)"
   ]
  },
  {
   "cell_type": "code",
   "execution_count": 27,
   "metadata": {},
   "outputs": [
    {
     "name": "stdout",
     "output_type": "stream",
     "text": [
      "Height :32\n",
      "Breath :34\n",
      "area formla = (h*b)2\n",
      "area of triangle : 544.0\n",
      "Height1 :2\n",
      "Height2 :4\n",
      "Breath :4\n",
      "perimeter formla = h1+h2+b\n",
      "perimeter of triangle: 10\n"
     ]
    }
   ],
   "source": [
    "triangle1.triangle()"
   ]
  },
  {
   "cell_type": "code",
   "execution_count": null,
   "metadata": {},
   "outputs": [],
   "source": []
  }
 ],
 "metadata": {
  "kernelspec": {
   "display_name": "Python 3",
   "language": "python",
   "name": "python3"
  },
  "language_info": {
   "codemirror_mode": {
    "name": "ipython",
    "version": 3
   },
   "file_extension": ".py",
   "mimetype": "text/x-python",
   "name": "python",
   "nbconvert_exporter": "python",
   "pygments_lexer": "ipython3",
   "version": "3.7.4"
  }
 },
 "nbformat": 4,
 "nbformat_minor": 2
}
