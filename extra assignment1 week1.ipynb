{
 "cells": [
  {
   "cell_type": "code",
   "execution_count": 1,
   "metadata": {},
   "outputs": [
    {
     "name": "stdout",
     "output_type": "stream",
     "text": [
      "HOPE AI\n"
     ]
    }
   ],
   "source": [
    "print(\"HOPE AI\")"
   ]
  },
  {
   "cell_type": "code",
   "execution_count": 1,
   "metadata": {},
   "outputs": [
    {
     "name": "stdout",
     "output_type": "stream",
     "text": [
      "Enter the institute name:HOPE AI\n"
     ]
    }
   ],
   "source": [
    "name=input(\"Enter the institute name:\")"
   ]
  },
  {
   "cell_type": "code",
   "execution_count": 3,
   "metadata": {},
   "outputs": [
    {
     "name": "stdout",
     "output_type": "stream",
     "text": [
      "Enter your name :Raj\n",
      "Enter your age :15\n",
      "Enter your  school name :Guru school\n",
      "Enter your degree :B.E CSE\n"
     ]
    }
   ],
   "source": [
    "name=input(\"Enter your name :\")\n",
    "age =int(input(\"Enter your age :\"))\n",
    "schoolname=input(\"Enter your  school name :\")\n",
    "degree=input(\"Enter your degree :\")"
   ]
  },
  {
   "cell_type": "code",
   "execution_count": 1,
   "metadata": {},
   "outputs": [
    {
     "name": "stdout",
     "output_type": "stream",
     "text": [
      "num1 :43\n",
      "num2 :34\n",
      "Add: 77\n"
     ]
    }
   ],
   "source": [
    "num1=int(input(\"num1 :\"))\n",
    "num2=int(input(\"num2 :\"))\n",
    "add=num1+num2\n",
    "print(\"Add:\",add)\n"
   ]
  },
  {
   "cell_type": "code",
   "execution_count": 2,
   "metadata": {},
   "outputs": [
    {
     "name": "stdout",
     "output_type": "stream",
     "text": [
      "num1 :43\n",
      "num2 :34\n",
      "sub: 9\n"
     ]
    }
   ],
   "source": [
    "num1=int(input(\"num1 :\"))\n",
    "num2=int(input(\"num2 :\"))\n",
    "sub=num1-num2\n",
    "print(\"sub:\",sub)"
   ]
  },
  {
   "cell_type": "code",
   "execution_count": 3,
   "metadata": {},
   "outputs": [
    {
     "name": "stdout",
     "output_type": "stream",
     "text": [
      "a :63\n",
      "b :97\n",
      "mul: 6111\n"
     ]
    }
   ],
   "source": [
    "num1=int(input(\"a :\"))\n",
    "num2=int(input(\"b :\"))\n",
    "mul=num1*num2\n",
    "print(\"mul:\",mul)"
   ]
  },
  {
   "cell_type": "code",
   "execution_count": 7,
   "metadata": {},
   "outputs": [
    {
     "name": "stdout",
     "output_type": "stream",
     "text": [
      "a :76\n",
      "b :31\n",
      "div: 2.4516129032258065\n"
     ]
    }
   ],
   "source": [
    "num1=float(input(\"a :\"))\n",
    "num2=float(input(\"b :\"))\n",
    "div=float(num1/num2)\n",
    "print(\"div:\",div)"
   ]
  },
  {
   "cell_type": "code",
   "execution_count": 9,
   "metadata": {},
   "outputs": [
    {
     "name": "stdout",
     "output_type": "stream",
     "text": [
      "a :76\n",
      "b :31\n",
      "div: 2\n"
     ]
    }
   ],
   "source": [
    "num1=int(input(\"a :\"))\n",
    "num2=int(input(\"b :\"))\n",
    "div=int(num1/num2)\n",
    "print(\"div:\",div)"
   ]
  },
  {
   "cell_type": "code",
   "execution_count": 15,
   "metadata": {},
   "outputs": [
    {
     "name": "stdout",
     "output_type": "stream",
     "text": [
      "a :76\n",
      "b :31\n",
      "modulo: 14\n"
     ]
    }
   ],
   "source": [
    "num1=int(input(\"a :\"))\n",
    "num2=int(input(\"b :\"))\n",
    "modulo=num1%num2\n",
    "print(\"modulo:\",modulo)"
   ]
  },
  {
   "cell_type": "code",
   "execution_count": 16,
   "metadata": {},
   "outputs": [
    {
     "name": "stdout",
     "output_type": "stream",
     "text": [
      "a :4\n",
      "b :4\n",
      "power: 256\n"
     ]
    }
   ],
   "source": [
    "num1=int(input(\"a :\"))\n",
    "num2=int(input(\"b :\"))\n",
    "power=pow(num1,num2)\n",
    "print(\"power:\",power)"
   ]
  },
  {
   "cell_type": "code",
   "execution_count": null,
   "metadata": {},
   "outputs": [],
   "source": []
  }
 ],
 "metadata": {
  "kernelspec": {
   "display_name": "Python 3",
   "language": "python",
   "name": "python3"
  },
  "language_info": {
   "codemirror_mode": {
    "name": "ipython",
    "version": 3
   },
   "file_extension": ".py",
   "mimetype": "text/x-python",
   "name": "python",
   "nbconvert_exporter": "python",
   "pygments_lexer": "ipython3",
   "version": "3.7.4"
  }
 },
 "nbformat": 4,
 "nbformat_minor": 2
}
