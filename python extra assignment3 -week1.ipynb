{
 "cells": [
  {
   "cell_type": "code",
   "execution_count": 8,
   "metadata": {},
   "outputs": [
    {
     "name": "stdout",
     "output_type": "stream",
     "text": [
      "enter the number =10\n",
      "correct\n"
     ]
    }
   ],
   "source": [
    "num=int(input(\"enter the number =\"))\n",
    "if (num==10):\n",
    "    print(\"correct\")"
   ]
  },
  {
   "cell_type": "code",
   "execution_count": 4,
   "metadata": {},
   "outputs": [
    {
     "name": "stdout",
     "output_type": "stream",
     "text": [
      "enter the password :HOPPE\n",
      "your password is not correct\n"
     ]
    }
   ],
   "source": [
    "num=(input(\"enter the password :\"))\n",
    "password=(\"HOPE@123\")\n",
    "if(password==num):\n",
    "    print(\"your password is correct\")\n",
    "else:\n",
    "    print(\"your password is not correct\")"
   ]
  },
  {
   "cell_type": "code",
   "execution_count": 3,
   "metadata": {},
   "outputs": [
    {
     "name": "stdout",
     "output_type": "stream",
     "text": [
      "Enter your Age67\n",
      "senior Citizen\n"
     ]
    }
   ],
   "source": [
    "age=int(input(\"Enter your Age\"))\n",
    "if(age<=18):\n",
    "    print(\"Children\")\n",
    "elif(age<30):\n",
    "        print(\"Adult\")\n",
    "elif(age<59):\n",
    "        print(\"Citizen\")\n",
    "else:\n",
    "    print(\"senior Citizen\")\n",
    "    "
   ]
  },
  {
   "cell_type": "code",
   "execution_count": 10,
   "metadata": {},
   "outputs": [
    {
     "name": "stdout",
     "output_type": "stream",
     "text": [
      "Enter a number: -10\n",
      "Negative number\n"
     ]
    }
   ],
   "source": [
    "num = float(input(\"Enter a number: \"))\n",
    "if num > 0:\n",
    "   print(\"Positive number\")\n",
    "elif num == 0:\n",
    "   print(\"Zero\")\n",
    "else:\n",
    "   print(\"Negative number\")"
   ]
  },
  {
   "cell_type": "code",
   "execution_count": 18,
   "metadata": {},
   "outputs": [
    {
     "name": "stdout",
     "output_type": "stream",
     "text": [
      "Enter the number6\n",
      "This no is Not divided by 5\n"
     ]
    }
   ],
   "source": [
    "num=int(input(\"Enter the number\"))\n",
    "if((num%5)==0):\n",
    "    print(\"this no is divided by 5\")\n",
    "else:\n",
    "    print(\"This no is Not divided by 5\")"
   ]
  },
  {
   "cell_type": "code",
   "execution_count": null,
   "metadata": {},
   "outputs": [],
   "source": []
  },
  {
   "cell_type": "code",
   "execution_count": null,
   "metadata": {},
   "outputs": [],
   "source": []
  }
 ],
 "metadata": {
  "kernelspec": {
   "display_name": "Python 3",
   "language": "python",
   "name": "python3"
  },
  "language_info": {
   "codemirror_mode": {
    "name": "ipython",
    "version": 3
   },
   "file_extension": ".py",
   "mimetype": "text/x-python",
   "name": "python",
   "nbconvert_exporter": "python",
   "pygments_lexer": "ipython3",
   "version": "3.7.4"
  }
 },
 "nbformat": 4,
 "nbformat_minor": 2
}
