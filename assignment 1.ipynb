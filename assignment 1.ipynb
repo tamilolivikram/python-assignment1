{
 "cells": [
  {
   "cell_type": "code",
   "execution_count": 1,
   "metadata": {
    "scrolled": true
   },
   "outputs": [
    {
     "name": "stdout",
     "output_type": "stream",
     "text": [
      "Num1= 10\n",
      "Num2= 30\n",
      "add= 40\n"
     ]
    }
   ],
   "source": [
    "num1=10\n",
    "print(\"Num1=\",num1)\n",
    "num2=30\n",
    "print(\"Num2=\",num2)\n",
    "add=num1+num2\n",
    "print(\"add=\",add)"
   ]
  },
  {
   "cell_type": "code",
   "execution_count": null,
   "metadata": {
    "scrolled": true
   },
   "outputs": [],
   "source": []
  },
  {
   "cell_type": "code",
   "execution_count": 3,
   "metadata": {},
   "outputs": [
    {
     "name": "stdout",
     "output_type": "stream",
     "text": [
      "enter your weight=2\n",
      "underweight\n"
     ]
    }
   ],
   "source": [
    "weight=int(input(\"enter your weight=\"))\n",
    "if(weight<19):\n",
    "    print(\"underweight\")\n",
    "elif(weight<25):             \n",
    "    print(\"normalweight\")\n",
    "elif(weight<30):             \n",
    "    print(\"overweight\") \n",
    "elif(weight<35):             \n",
    "    print(\"obese\") \n",
    "elif(weight<40):             \n",
    "    print(\"severlobese\") \n",
    "else:\n",
    "    print(\"morbidlyobese\")"
   ]
  },
  {
   "cell_type": "code",
   "execution_count": null,
   "metadata": {},
   "outputs": [],
   "source": []
  },
  {
   "cell_type": "code",
   "execution_count": null,
   "metadata": {},
   "outputs": [],
   "source": []
  },
  {
   "cell_type": "code",
   "execution_count": null,
   "metadata": {},
   "outputs": [],
   "source": []
  }
 ],
 "metadata": {
  "kernelspec": {
   "display_name": "Python 3",
   "language": "python",
   "name": "python3"
  },
  "language_info": {
   "codemirror_mode": {
    "name": "ipython",
    "version": 3
   },
   "file_extension": ".py",
   "mimetype": "text/x-python",
   "name": "python",
   "nbconvert_exporter": "python",
   "pygments_lexer": "ipython3",
   "version": "3.7.4"
  }
 },
 "nbformat": 4,
 "nbformat_minor": 2
}
